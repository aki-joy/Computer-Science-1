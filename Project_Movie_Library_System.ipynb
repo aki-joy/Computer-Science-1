{
  "nbformat": 4,
  "nbformat_minor": 0,
  "metadata": {
    "colab": {
      "provenance": []
    },
    "kernelspec": {
      "name": "python3",
      "display_name": "Python 3"
    },
    "language_info": {
      "name": "python"
    }
  },
  "cells": [
    {
      "cell_type": "markdown",
      "source": [
        "Project: Movie Library System"
      ],
      "metadata": {
        "id": "-xlUbOXmM8R3"
      }
    },
    {
      "cell_type": "code",
      "source": [
        "movie_library = []\n",
        "\n",
        "movie1 = {\n",
        "    'title': 'Inception',\n",
        "    'year': 2010,\n",
        "    'genres': ['Action','Sci-Fi'],\n",
        "    'rating': (4.5, 1500),\n",
        "    'reviews': {}\n",
        "}\n",
        "movie_library.append(movie1)\n",
        "\n",
        "movie2 = {\n",
        "    'title': 'Titanic',\n",
        "    'year': 1997,\n",
        "    'genres': ['Romance','Drama'],\n",
        "    'rating': (4.7, 2000),\n",
        "    'reviews': {}\n",
        "}\n",
        "movie_library.append(movie2)\n",
        "\n",
        "movie3 = {\n",
        "    'title': 'The Matrix',\n",
        "    'year': '1999',\n",
        "    'genres': ['Action','Sci-Fi'],\n",
        "    'rating': (4.8, 1800),\n",
        "    'reviews': {}\n",
        "}\n",
        "movie_library.append(movie3)"
      ],
      "metadata": {
        "id": "_60ip_ppR3qc"
      },
      "execution_count": 20,
      "outputs": []
    },
    {
      "cell_type": "code",
      "source": [
        "def view_movies():\n",
        "  for movie in movie_library:\n",
        "    title = movie['title']\n",
        "    year = movie['year']\n",
        "    genres = movie['genres']\n",
        "    rating_s = movie['rating'][0]\n",
        "    rating_n = movie['rating'][1]\n",
        "\n",
        "    print(f\"Title: {title}, Year: {year}, Genres: {', '.join(genres)}, Rating: {rating_s}({rating_n} reviews)\")"
      ],
      "metadata": {
        "id": "qqSTpvd00xKY"
      },
      "execution_count": 6,
      "outputs": []
    },
    {
      "cell_type": "code",
      "source": [
        "def search_by_genre():\n",
        "  genre_search = str(input(\"Enter a genre: \"))\n",
        "  found = False\n",
        "  for movie in movie_library:\n",
        "\n",
        "    if genre_search in movie['genres']:\n",
        "      title = movie['title']\n",
        "      year = movie['year']\n",
        "      genres = movie['genres']\n",
        "      print(f\"Title: {title}, Year: {year}, Genres: {','.join(genres)}\")\n",
        "      found = True\n",
        "  if not found:\n",
        "    print('not found')"
      ],
      "metadata": {
        "id": "BVRgVpmY7ys5"
      },
      "execution_count": 11,
      "outputs": []
    },
    {
      "cell_type": "code",
      "source": [
        "def view_details():\n",
        "  title_search = input(\"Enter a title: \")\n",
        "  for movie in movie_library:\n",
        "    if title_search == movie['title']:\n",
        "      print(f\"Title: {movie['title']}\")\n",
        "      print(f\"Year: {movie['year']}\")\n",
        "      print(f\"Genres:{','.join(movie['genres'])}\")\n",
        "      print(f\"Rating: {movie['rating'][0]} ({movie['rating'][1]} reviews)\")\n",
        "      print(\"Reviews:\")\n",
        "      for reviewer, review_text in movie['reviews'].items():\n",
        "        print(f\"{reviewer}: {review_text}\")\n",
        "        return\n",
        "        if movie['reviews'] == {}:\n",
        "          print('no reviews')\n",
        "  else:\n",
        "    print('not found')"
      ],
      "metadata": {
        "id": "NBQVBZjPCezj"
      },
      "execution_count": 8,
      "outputs": []
    },
    {
      "cell_type": "code",
      "source": [
        "def add_review():\n",
        "    title_search = input(\"Enter the movie title you want to review: \")\n",
        "    reviewer = input(\"Enter your name: \")\n",
        "    review_text = input(\"Enter your review: \")\n",
        "\n",
        "    for movie in movie_library:\n",
        "        if movie['title'] == title_search:\n",
        "          reviews = {\n",
        "              reviewer : review_text\n",
        "          }\n",
        "          movie['reviews'].update(reviews)\n",
        "          new_rating = (5.0, movie['rating'][1] + 1)\n",
        "          movie['rating'] = new_rating\n",
        "          print(f\"Review added for '{title_search}' by {reviewer}.\")\n",
        "          return\n",
        "\n",
        "    else:\n",
        "        print(f\"Movie titled '{title_search}' not found.\")\n"
      ],
      "metadata": {
        "id": "NVs38BMseJTm"
      },
      "execution_count": 14,
      "outputs": []
    },
    {
      "cell_type": "code",
      "source": [
        "def calculate_average_rating(library):\n",
        "    total_ratings = 0\n",
        "    total_reviews = 0\n",
        "    for movie in library:\n",
        "        num_reviews = int(movie['rating'][1])\n",
        "        total_ratings += movie['rating'][0] * num_reviews\n",
        "        total_reviews += num_reviews\n",
        "    average_rating = total_ratings / total_reviews if total_reviews else 0\n",
        "    print(f\"Average Rating of All Movies: {average_rating:.2f}\")\n",
        "    return average_rating\n",
        "\n",
        "calculate_average_rating(movie_library)"
      ],
      "metadata": {
        "colab": {
          "base_uri": "https://localhost:8080/"
        },
        "id": "jMg0CQ9viUK8",
        "outputId": "7a132d78-6ca7-4d2c-b61a-9e4c41888dc6"
      },
      "execution_count": 17,
      "outputs": [
        {
          "output_type": "stream",
          "name": "stdout",
          "text": [
            "Average Rating of All Movies: 4.75\n"
          ]
        },
        {
          "output_type": "execute_result",
          "data": {
            "text/plain": [
              "4.746753246753247"
            ]
          },
          "metadata": {},
          "execution_count": 17
        }
      ]
    },
    {
      "cell_type": "markdown",
      "source": [
        "Step 8: Test the program"
      ],
      "metadata": {
        "id": "r2feu5zflfsC"
      }
    },
    {
      "cell_type": "code",
      "source": [
        "movie4 = {\n",
        "    'title': 'The Shawshank Redemption',\n",
        "    'year': 1994,\n",
        "    'genres': ['Drama'],\n",
        "    'rating': (4.9, 1200),\n",
        "    'reviews': {}\n",
        "}\n",
        "movie_library.append(movie4)\n",
        "view_movies()"
      ],
      "metadata": {
        "id": "MdIOXcc4l12Q"
      },
      "execution_count": null,
      "outputs": []
    },
    {
      "cell_type": "code",
      "source": [
        "view_movies()\n",
        "view_details()"
      ],
      "metadata": {
        "id": "REt_j1Domqbe"
      },
      "execution_count": null,
      "outputs": []
    },
    {
      "cell_type": "code",
      "source": [
        "search_by_genre()"
      ],
      "metadata": {
        "id": "LEiukXMgnBi_"
      },
      "execution_count": null,
      "outputs": []
    },
    {
      "cell_type": "code",
      "source": [
        "add_review()\n",
        "view_details()"
      ],
      "metadata": {
        "id": "-lEP2VQ8nK1x"
      },
      "execution_count": null,
      "outputs": []
    },
    {
      "cell_type": "code",
      "source": [
        "calculate_average_rating(movie_library)"
      ],
      "metadata": {
        "id": "jcwUVdawnmlP"
      },
      "execution_count": null,
      "outputs": []
    }
  ]
}