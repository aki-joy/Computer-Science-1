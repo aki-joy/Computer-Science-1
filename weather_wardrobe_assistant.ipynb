{
  "cells": [
    {
      "cell_type": "code",
      "source": [
        "from IPython.display import clear_output\n",
        "import time\n",
        "\n",
        "correct_username = 'aki'\n",
        "correct_password = '123'\n",
        "attempts = 0\n",
        "max_attempts = 3\n",
        "\n",
        "while attempts < max_attempts:\n",
        "    username = input(\"Enter username: \")\n",
        "    password = input(\"Enter password: \")\n",
        "\n",
        "    if username == correct_username and password == correct_password:\n",
        "        print(\"Login successful. Welcome!\")\n",
        "        time.sleep(2)\n",
        "        clear_output(wait=True)\n",
        "        break\n",
        "    else:\n",
        "        attempts += 1\n",
        "        print(f\"Invalid credentials. Attempts remaining: {max_attempts - attempts}\")\n",
        "        time.sleep(2)\n",
        "        clear_output(wait=True)\n",
        "\n",
        "if attempts == max_attempts:\n",
        "    print(\"Too many failed login attempts.\")\n",
        "else:\n",
        "\n",
        "    temperature = ''\n",
        "    raining = ''\n",
        "    windy = ''\n",
        "\n",
        "    option = ''\n",
        "    while option != '3':\n",
        "        print(\"Main Menu\")\n",
        "        print(\"1. Enter today’s weather\")\n",
        "        print(\"2. Get clothing suggestion\")\n",
        "        print(\"3. Exit\")\n",
        "\n",
        "        time.sleep(1)\n",
        "        option = input(\"Choose an option (1-3): \")\n",
        "\n",
        "        if option == '1':\n",
        "          temperature = int(input(\"Enter temperature in Celsius: \"))\n",
        "\n",
        "          raining = input(\"Is it raining? (yes/no): \")\n",
        "          while raining not in ['yes', 'no']:\n",
        "                raining = input(\"Please enter 'yes' or 'no' for rain: \")\n",
        "\n",
        "          windy = input(\"Is it windy? (yes/no): \")\n",
        "          while windy not in ['yes', 'no']:\n",
        "                windy = input(\"Please enter 'yes' or 'no' for wind: \")\n",
        "\n",
        "          print(\"Weather information recorded.\")\n",
        "          time.sleep(2)\n",
        "          clear_output(wait=True)\n",
        "\n",
        "        elif option == '2':\n",
        "            if temperature =='' or raining =='' or windy=='':\n",
        "                print(\"Please enter weather information (Option 1).\")\n",
        "            else:\n",
        "                if temperature < 10:\n",
        "                    suggestion = \"It's cold. Wear a coat\"\n",
        "                elif 10 <= temperature <= 20:\n",
        "                    suggestion = \"It's a bit chilly. Wear a jacket\"\n",
        "                else:\n",
        "                    suggestion = \"It's warm. Light clothing is fine\"\n",
        "\n",
        "                if raining == 'yes':\n",
        "                    suggestion += \" and bring an umbrella\"\n",
        "                if windy == 'yes':\n",
        "                    suggestion += \", and consider wearing a windbreaker\"\n",
        "\n",
        "                print(\"Clothing suggestion:\")\n",
        "                print(suggestion)\n",
        "\n",
        "            time.sleep(4)\n",
        "            clear_output(wait=True)\n",
        "\n",
        "        elif option == '3':\n",
        "            print(\"Exiting program...\")\n",
        "            time.sleep(1)\n",
        "            clear_output(wait=True)\n",
        "        else:\n",
        "            print(\"Invalid option. Please choose between 1 and 3.\")\n",
        "            time.sleep(2)\n",
        "            clear_output(wait=True)\n",
        "\n",
        "    print(\"Thank you for using the clothing suggestion system.\")\n"
      ],
      "metadata": {
        "colab": {
          "base_uri": "https://localhost:8080/"
        },
        "id": "A9V1PvDXFyg0",
        "outputId": "b38c887c-ac7c-4b6b-c6a4-3f6bd07dc07f"
      },
      "execution_count": 1,
      "outputs": [
        {
          "output_type": "stream",
          "name": "stdout",
          "text": [
            "Thank you for using the clothing suggestion system.\n"
          ]
        }
      ]
    }
  ],
  "metadata": {
    "colab": {
      "provenance": []
    },
    "kernelspec": {
      "display_name": "Python 3",
      "name": "python3"
    }
  },
  "nbformat": 4,
  "nbformat_minor": 0
}