{
  "nbformat": 4,
  "nbformat_minor": 0,
  "metadata": {
    "colab": {
      "provenance": []
    },
    "kernelspec": {
      "name": "python3",
      "display_name": "Python 3"
    },
    "language_info": {
      "name": "python"
    }
  },
  "cells": [
    {
      "cell_type": "markdown",
      "source": [
        "Build a simple banking system"
      ],
      "metadata": {
        "id": "VpsU0NjhPksh"
      }
    },
    {
      "cell_type": "markdown",
      "source": [],
      "metadata": {
        "id": "saCUM89Cuq59"
      }
    },
    {
      "cell_type": "code",
      "source": [
        "attempts = 0\n",
        "balance = 1000\n",
        "\n",
        "\n",
        "while attempts < 3:\n",
        "  username = input(\"Enter Username\")\n",
        "  password = input(\"Enter Password\")\n",
        "\n",
        "  if username == \"aki\" and password == \"123\":\n",
        "   print(\"Login successful\")\n",
        "   break\n",
        "\n",
        "\n",
        "  else:\n",
        "    attempts += 1\n",
        "    print('Wrong details. Try again.')\n",
        "\n",
        "\n",
        "if attempts == 3:\n",
        "  print('You tried too many times. Contact bank.')\n",
        "\n",
        "\n",
        "else:\n",
        "\n",
        "  while True:\n",
        "    print('Main menu')\n",
        "    print('1. Balance')\n",
        "    print('2. Deposit')\n",
        "    print('3. Withdraw')\n",
        "    print('4. Exit')\n",
        "\n",
        "\n",
        "    choice = input('Enter your choice(1/2/3/4):')\n",
        "\n",
        "\n",
        "    if choice == '1':\n",
        "      print('Balance:', balance)\n",
        "\n",
        "\n",
        "    elif choice == '2':\n",
        "\n",
        "      deposit = float(input('Enter amount to deposit:'))\n",
        "\n",
        "      if deposit > 0:\n",
        "        balance += deposit\n",
        "        print('Deposit successful. New balance:', balance)\n",
        "\n",
        "      else:\n",
        "        print('Invalid amount. Deposit failed.')\n",
        "\n",
        "    elif choice == '3':\n",
        "      withdraw = float(input('Enter amount to withdraw:'))\n",
        "      if withdraw <= balance:\n",
        "        balance -= withdraw\n",
        "        print('Withdrawal successful. New balance:', balance)\n",
        "      else:\n",
        "       if withdraw >= balance:\n",
        "        print('Insufficient funds.')\n",
        "\n",
        "    elif choice == '4':\n",
        "      print('Exit')\n",
        "      break\n",
        "\n",
        "    else:\n",
        "      print('Invalid choice. Please try again.')"
      ],
      "metadata": {
        "colab": {
          "base_uri": "https://localhost:8080/",
          "height": 775
        },
        "id": "voiYyM93Pmuu",
        "outputId": "d7752362-e914-4c70-f33f-68bf71a24343"
      },
      "execution_count": 2,
      "outputs": [
        {
          "output_type": "stream",
          "name": "stdout",
          "text": [
            "Enter Usernameaki\n",
            "Enter Password123\n",
            "Login successful\n",
            "Main menu\n",
            "1. Balance\n",
            "2. Deposit\n",
            "3. Withdraw\n",
            "4. Exit\n",
            "Enter your choice(1/2/3/4):1\n",
            "Balance: 1000\n",
            "Main menu\n",
            "1. Balance\n",
            "2. Deposit\n",
            "3. Withdraw\n",
            "4. Exit\n",
            "Enter your choice(1/2/3/4):2\n",
            "Enter amount to deposit:200\n",
            "Deposit successful. New balance: 1200.0\n",
            "Main menu\n",
            "1. Balance\n",
            "2. Deposit\n",
            "3. Withdraw\n",
            "4. Exit\n"
          ]
        },
        {
          "output_type": "error",
          "ename": "KeyboardInterrupt",
          "evalue": "Interrupted by user",
          "traceback": [
            "\u001b[0;31m---------------------------------------------------------------------------\u001b[0m",
            "\u001b[0;31mKeyboardInterrupt\u001b[0m                         Traceback (most recent call last)",
            "\u001b[0;32m<ipython-input-2-0771848fab47>\u001b[0m in \u001b[0;36m<cell line: 0>\u001b[0;34m()\u001b[0m\n\u001b[1;32m     31\u001b[0m \u001b[0;34m\u001b[0m\u001b[0m\n\u001b[1;32m     32\u001b[0m \u001b[0;34m\u001b[0m\u001b[0m\n\u001b[0;32m---> 33\u001b[0;31m     \u001b[0mchoice\u001b[0m \u001b[0;34m=\u001b[0m \u001b[0minput\u001b[0m\u001b[0;34m(\u001b[0m\u001b[0;34m'Enter your choice(1/2/3/4):'\u001b[0m\u001b[0;34m)\u001b[0m\u001b[0;34m\u001b[0m\u001b[0;34m\u001b[0m\u001b[0m\n\u001b[0m\u001b[1;32m     34\u001b[0m \u001b[0;34m\u001b[0m\u001b[0m\n\u001b[1;32m     35\u001b[0m \u001b[0;34m\u001b[0m\u001b[0m\n",
            "\u001b[0;32m/usr/local/lib/python3.11/dist-packages/ipykernel/kernelbase.py\u001b[0m in \u001b[0;36mraw_input\u001b[0;34m(self, prompt)\u001b[0m\n\u001b[1;32m   1175\u001b[0m                 \u001b[0;34m\"raw_input was called, but this frontend does not support input requests.\"\u001b[0m\u001b[0;34m\u001b[0m\u001b[0;34m\u001b[0m\u001b[0m\n\u001b[1;32m   1176\u001b[0m             )\n\u001b[0;32m-> 1177\u001b[0;31m         return self._input_request(\n\u001b[0m\u001b[1;32m   1178\u001b[0m             \u001b[0mstr\u001b[0m\u001b[0;34m(\u001b[0m\u001b[0mprompt\u001b[0m\u001b[0;34m)\u001b[0m\u001b[0;34m,\u001b[0m\u001b[0;34m\u001b[0m\u001b[0;34m\u001b[0m\u001b[0m\n\u001b[1;32m   1179\u001b[0m             \u001b[0mself\u001b[0m\u001b[0;34m.\u001b[0m\u001b[0m_parent_ident\u001b[0m\u001b[0;34m[\u001b[0m\u001b[0;34m\"shell\"\u001b[0m\u001b[0;34m]\u001b[0m\u001b[0;34m,\u001b[0m\u001b[0;34m\u001b[0m\u001b[0;34m\u001b[0m\u001b[0m\n",
            "\u001b[0;32m/usr/local/lib/python3.11/dist-packages/ipykernel/kernelbase.py\u001b[0m in \u001b[0;36m_input_request\u001b[0;34m(self, prompt, ident, parent, password)\u001b[0m\n\u001b[1;32m   1217\u001b[0m             \u001b[0;32mexcept\u001b[0m \u001b[0mKeyboardInterrupt\u001b[0m\u001b[0;34m:\u001b[0m\u001b[0;34m\u001b[0m\u001b[0;34m\u001b[0m\u001b[0m\n\u001b[1;32m   1218\u001b[0m                 \u001b[0;31m# re-raise KeyboardInterrupt, to truncate traceback\u001b[0m\u001b[0;34m\u001b[0m\u001b[0;34m\u001b[0m\u001b[0m\n\u001b[0;32m-> 1219\u001b[0;31m                 \u001b[0;32mraise\u001b[0m \u001b[0mKeyboardInterrupt\u001b[0m\u001b[0;34m(\u001b[0m\u001b[0;34m\"Interrupted by user\"\u001b[0m\u001b[0;34m)\u001b[0m \u001b[0;32mfrom\u001b[0m \u001b[0;32mNone\u001b[0m\u001b[0;34m\u001b[0m\u001b[0;34m\u001b[0m\u001b[0m\n\u001b[0m\u001b[1;32m   1220\u001b[0m             \u001b[0;32mexcept\u001b[0m \u001b[0mException\u001b[0m\u001b[0;34m:\u001b[0m\u001b[0;34m\u001b[0m\u001b[0;34m\u001b[0m\u001b[0m\n\u001b[1;32m   1221\u001b[0m                 \u001b[0mself\u001b[0m\u001b[0;34m.\u001b[0m\u001b[0mlog\u001b[0m\u001b[0;34m.\u001b[0m\u001b[0mwarning\u001b[0m\u001b[0;34m(\u001b[0m\u001b[0;34m\"Invalid Message:\"\u001b[0m\u001b[0;34m,\u001b[0m \u001b[0mexc_info\u001b[0m\u001b[0;34m=\u001b[0m\u001b[0;32mTrue\u001b[0m\u001b[0;34m)\u001b[0m\u001b[0;34m\u001b[0m\u001b[0;34m\u001b[0m\u001b[0m\n",
            "\u001b[0;31mKeyboardInterrupt\u001b[0m: Interrupted by user"
          ]
        }
      ]
    }
  ]
}