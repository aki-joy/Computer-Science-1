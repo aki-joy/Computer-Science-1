{
  "cells": [
    {
      "cell_type": "markdown",
      "source": [
        "task 1"
      ],
      "metadata": {
        "id": "QmxlwUiyvLfO"
      }
    },
    {
      "cell_type": "code",
      "source": [
        "number = 1\n",
        "floating_point_number = 1.2\n",
        "string = 'hello'\n",
        "boolean = True"
      ],
      "metadata": {
        "id": "LNtjJZgXu-f5"
      },
      "execution_count": null,
      "outputs": []
    },
    {
      "cell_type": "markdown",
      "source": [
        "task 2"
      ],
      "metadata": {
        "id": "RjeBFtvzvOTm"
      }
    },
    {
      "cell_type": "code",
      "source": [
        "age = 18\n",
        "print(type(age))\n",
        "age = float(age)\n",
        "print(type(age))\n",
        "\n",
        "is_student = True\n",
        "print(type(is_student))\n"
      ],
      "metadata": {
        "id": "OyI5FVsevN2C"
      },
      "execution_count": null,
      "outputs": []
    },
    {
      "cell_type": "markdown",
      "source": [
        "task 3"
      ],
      "metadata": {
        "id": "qzwHqttZxZsL"
      }
    },
    {
      "cell_type": "code",
      "source": [
        "name = input('enter your name:')\n",
        "print('Hello, '+ name + '!')\n",
        "\n",
        "age = int(input('enter your age'))\n",
        "\n",
        "if age >= 18:\n",
        "  print('you are eligible to vote')\n",
        "else:\n",
        "  print('you are not eligible to vote')"
      ],
      "metadata": {
        "id": "F9FPicDGlIEO",
        "outputId": "2859b898-3cd0-4c48-c4a0-2a3fd51bd845",
        "colab": {
          "base_uri": "https://localhost:8080/"
        }
      },
      "execution_count": null,
      "outputs": [
        {
          "output_type": "stream",
          "name": "stdout",
          "text": [
            "enter your name:aki\n",
            "helloaki\n"
          ]
        }
      ]
    },
    {
      "cell_type": "markdown",
      "source": [
        "task 4"
      ],
      "metadata": {
        "id": "5ccixP8gxb90"
      }
    },
    {
      "cell_type": "code",
      "source": [
        "number = int(input('enter a number'))\n",
        "number *= number\n",
        "print(number)\n",
        "\n",
        "floating_number = '4.56'\n",
        "floating_number = float(floating_number)\n",
        "result = floating_number * 2\n",
        "print(result)\n"
      ],
      "metadata": {
        "id": "ha4BJrhAmmvR",
        "outputId": "1b96336c-d534-4ba2-dc69-43ebcb246ec8",
        "colab": {
          "base_uri": "https://localhost:8080/"
        }
      },
      "execution_count": null,
      "outputs": [
        {
          "output_type": "stream",
          "name": "stdout",
          "text": [
            "enter a number2\n",
            "4\n",
            "9.12\n"
          ]
        }
      ]
    },
    {
      "cell_type": "markdown",
      "source": [
        "task 5"
      ],
      "metadata": {
        "id": "2vfKFIyIxdgd"
      }
    },
    {
      "cell_type": "code",
      "source": [
        "print(45+67)\n",
        "print(89-156)\n",
        "print(12*7)\n",
        "print(100/4)\n",
        "print(10%3)\n",
        "print(3**4)"
      ],
      "metadata": {
        "id": "MA_upONGn44U"
      },
      "execution_count": null,
      "outputs": []
    },
    {
      "cell_type": "markdown",
      "source": [
        "task 6"
      ],
      "metadata": {
        "id": "iPNYEPRNxewr"
      }
    },
    {
      "cell_type": "code",
      "source": [
        "a = 10\n",
        "b = 20\n",
        "\n",
        "print(\"a == b :\", a == b)\n",
        "print(\"a != b :\", a != b)\n",
        "print(\"a < b  :\", a < b)\n",
        "print(\"a > b  :\", a > b)\n",
        "print(\"a <= b :\", a <= b)\n",
        "print(\"a >= b :\", a >= b)\n",
        "\n",
        "number1 = int(input('enter first number;'))\n",
        "number2 = int(input('enter second number;'))\n",
        "\n",
        "if number1 > number2:\n",
        "  print('number1 is greater than number2')\n",
        "\n",
        "elif number1 < number2:\n",
        "  print('number1 is less than number2')\n",
        "\n",
        "else:\n",
        "  print('number1 is equal to number2')"
      ],
      "metadata": {
        "id": "i2DmAe2Koq6N"
      },
      "execution_count": null,
      "outputs": []
    },
    {
      "cell_type": "markdown",
      "source": [
        "task 7"
      ],
      "metadata": {
        "id": "llTxLobsxgNw"
      }
    },
    {
      "cell_type": "code",
      "source": [
        "number = int(input('enter a number'))\n",
        "\n",
        "if 10 <= number <= 20:\n",
        "  print('number is between 10 and 20')\n",
        "else:\n",
        "  print('number is not between 10 and 20')\n",
        "\n",
        "if number <= 5 or number >=50\n",
        "  print('number is less than or equal to 5 or greater than or equal to 50')"
      ],
      "metadata": {
        "id": "9wKh8zmTqfxF"
      },
      "execution_count": null,
      "outputs": []
    },
    {
      "cell_type": "markdown",
      "source": [
        "task 8"
      ],
      "metadata": {
        "id": "8zePJnWwxhY9"
      }
    },
    {
      "cell_type": "code",
      "source": [
        "age = int(input('enter your age'))\n",
        "\n",
        "if age >= 18:\n",
        "  print('you are an adult')\n",
        "else:\n",
        "  print('you are minor')\n",
        "\n",
        "number = int(input('enter a number'))\n",
        "\n",
        "if number%3 and number%5:\n",
        "  print('FizzBuzz')\n",
        "\n",
        "elif number%3:\n",
        "  print('Fizz')\n",
        "\n",
        "elif number%5:\n",
        "  print('Buzz')\n",
        "\n",
        "else:\n",
        "  print(number)\n"
      ],
      "metadata": {
        "id": "6W7p5gVZrKYu",
        "outputId": "4bbb913f-5fc3-4a14-e28e-48384c07a541",
        "colab": {
          "base_uri": "https://localhost:8080/"
        }
      },
      "execution_count": null,
      "outputs": [
        {
          "output_type": "stream",
          "name": "stdout",
          "text": [
            "enter your age2\n",
            "you are minor\n",
            "enter a number3\n",
            "Buzz\n"
          ]
        }
      ]
    },
    {
      "cell_type": "markdown",
      "source": [
        "task 9"
      ],
      "metadata": {
        "id": "Ko_Dqbx-xi1w"
      }
    },
    {
      "cell_type": "code",
      "source": [
        "number = 1\n",
        "\n",
        "for number in range(1,11):\n",
        "  print(number)\n",
        "  number += 1\n",
        "\n",
        "number = 2\n",
        "while number <=20:\n",
        "  print(number)\n",
        "  number += 2\n",
        "\n",
        "number = int(input('enter a number:'))\n",
        "number1 = 1\n",
        "\n",
        "while number1 <= number:\n",
        "  if number1 % 4 == 0:\n",
        "    print(number1)\n",
        "    number1 += 1\n",
        "  else:\n",
        "    number1 += 1\n",
        "    continue"
      ],
      "metadata": {
        "id": "ftUwLSo5rs8h",
        "outputId": "fd7a2b3d-235e-4c3e-8cc5-fcbbc9548c8f",
        "colab": {
          "base_uri": "https://localhost:8080/"
        }
      },
      "execution_count": null,
      "outputs": [
        {
          "output_type": "stream",
          "name": "stdout",
          "text": [
            "1\n",
            "2\n",
            "3\n",
            "4\n",
            "5\n",
            "6\n",
            "7\n",
            "8\n",
            "9\n",
            "10\n",
            "2\n",
            "4\n",
            "6\n",
            "8\n",
            "10\n",
            "12\n",
            "14\n",
            "16\n",
            "18\n",
            "20\n",
            "enter a number:18\n",
            "4\n",
            "8\n",
            "12\n",
            "16\n"
          ]
        }
      ]
    }
  ],
  "metadata": {
    "colab": {
      "provenance": []
    },
    "kernelspec": {
      "display_name": "Python 3",
      "name": "python3"
    }
  },
  "nbformat": 4,
  "nbformat_minor": 0
}